# We want to load the Hugging Face model and compare it with the code we have

# 